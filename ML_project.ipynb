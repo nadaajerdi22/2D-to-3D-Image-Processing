{
 "cells": [
  {
   "cell_type": "markdown",
   "id": "8e9a880f-34b0-4ca9-a690-f0107a726648",
   "metadata": {},
   "source": [
    "#### Importation de bibliothèques nécessaires "
   ]
  },
  {
   "cell_type": "code",
   "execution_count": 552,
   "id": "e172deb3-8af5-49cb-994f-46cf97fbace8",
   "metadata": {},
   "outputs": [],
   "source": [
    "# Importation des bibliothèques nécessaires\n",
    "import pandas as pd\n",
    "import numpy as np\n",
    "import seaborn as sns\n",
    "import matplotlib.pyplot as plt\n",
    "import networkx as nx\n",
    "from sklearn.model_selection import train_test_split\n",
    "from sklearn.ensemble import RandomForestRegressor\n",
    "from sklearn.metrics import mean_absolute_error, mean_squared_error, r2_score\n",
    "from itertools import permutations\n",
    "from random import shuffle\n",
    "import random\n",
    "import math\n",
    "import joblib\n",
    "from sklearn.preprocessing import MinMaxScaler"
   ]
  },
  {
   "cell_type": "markdown",
   "id": "62ef1114-1cc3-4d72-919f-3e51df115710",
   "metadata": {},
   "source": [
    "#### Génération des données de la dataset "
   ]
  },
  {
   "cell_type": "code",
   "execution_count": 555,
   "id": "d0f2056a-0358-449e-aa7e-b288f4dcad63",
   "metadata": {},
   "outputs": [],
   "source": [
    "# génération de DataFrame avec 10 lignes\n",
    "data = pd.DataFrame({\n",
    "    'ClientID': ['Client_1', 'Client_2', 'Client_3', 'Client_4', 'Client_5', 'Client_6', 'Client_7', 'Client_8', 'Client_9', 'Client_10'],\n",
    "    'Latitude': [35.874540, 36.450714, 36.231994, 36.098658, 35.656018, 35.655995, 35.558084, 36.366176, 36.101115, 36.208073],\n",
    "    'Longitude': [-6.489708, -6.015045, -6.083779, -6.393830, -6.409088, -6.408298, -6.347879, -6.237622, -6.284027, -6.354385],\n",
    "    'Priorité': [2, 1, 1, 2, 2, 3, 1, 2, 2, 1],\n",
    "    'Coût Estimé': [141.131728, 75.578619, 59.757739, 192.332831, 194.844805, 171.259602, 95.692065, 64.650817, 152.634954, 116.022874]\n",
    "})"
   ]
  },
  {
   "cell_type": "code",
   "execution_count": 557,
   "id": "a6f51c3a-1394-4849-bcd8-24aaf2364536",
   "metadata": {},
   "outputs": [],
   "source": [
    "# Sauvegarder le DataFrame dans un fichier CSV\n",
    "data.to_csv('delivery_routes.csv', index=False)"
   ]
  },
  {
   "cell_type": "code",
   "execution_count": 559,
   "id": "24c877b4-61ab-4f66-bed8-4b8825b67eec",
   "metadata": {},
   "outputs": [],
   "source": [
    "# Charger les données existantes\n",
    "data = pd.read_csv('delivery_routes.csv')"
   ]
  },
  {
   "cell_type": "code",
   "execution_count": 561,
   "id": "0caca61d-cfbe-4bd5-acdd-8cc459682029",
   "metadata": {},
   "outputs": [
    {
     "data": {
      "text/html": [
       "<div>\n",
       "<style scoped>\n",
       "    .dataframe tbody tr th:only-of-type {\n",
       "        vertical-align: middle;\n",
       "    }\n",
       "\n",
       "    .dataframe tbody tr th {\n",
       "        vertical-align: top;\n",
       "    }\n",
       "\n",
       "    .dataframe thead th {\n",
       "        text-align: right;\n",
       "    }\n",
       "</style>\n",
       "<table border=\"1\" class=\"dataframe\">\n",
       "  <thead>\n",
       "    <tr style=\"text-align: right;\">\n",
       "      <th></th>\n",
       "      <th>ClientID</th>\n",
       "      <th>Latitude</th>\n",
       "      <th>Longitude</th>\n",
       "      <th>Priorité</th>\n",
       "      <th>Coût Estimé</th>\n",
       "    </tr>\n",
       "  </thead>\n",
       "  <tbody>\n",
       "    <tr>\n",
       "      <th>0</th>\n",
       "      <td>Client_1</td>\n",
       "      <td>35.874540</td>\n",
       "      <td>-6.489708</td>\n",
       "      <td>2</td>\n",
       "      <td>141.131728</td>\n",
       "    </tr>\n",
       "    <tr>\n",
       "      <th>1</th>\n",
       "      <td>Client_2</td>\n",
       "      <td>36.450714</td>\n",
       "      <td>-6.015045</td>\n",
       "      <td>1</td>\n",
       "      <td>75.578619</td>\n",
       "    </tr>\n",
       "    <tr>\n",
       "      <th>2</th>\n",
       "      <td>Client_3</td>\n",
       "      <td>36.231994</td>\n",
       "      <td>-6.083779</td>\n",
       "      <td>1</td>\n",
       "      <td>59.757739</td>\n",
       "    </tr>\n",
       "    <tr>\n",
       "      <th>3</th>\n",
       "      <td>Client_4</td>\n",
       "      <td>36.098658</td>\n",
       "      <td>-6.393830</td>\n",
       "      <td>2</td>\n",
       "      <td>192.332831</td>\n",
       "    </tr>\n",
       "    <tr>\n",
       "      <th>4</th>\n",
       "      <td>Client_5</td>\n",
       "      <td>35.656018</td>\n",
       "      <td>-6.409088</td>\n",
       "      <td>2</td>\n",
       "      <td>194.844805</td>\n",
       "    </tr>\n",
       "    <tr>\n",
       "      <th>5</th>\n",
       "      <td>Client_6</td>\n",
       "      <td>35.655995</td>\n",
       "      <td>-6.408298</td>\n",
       "      <td>3</td>\n",
       "      <td>171.259602</td>\n",
       "    </tr>\n",
       "    <tr>\n",
       "      <th>6</th>\n",
       "      <td>Client_7</td>\n",
       "      <td>35.558084</td>\n",
       "      <td>-6.347879</td>\n",
       "      <td>1</td>\n",
       "      <td>95.692065</td>\n",
       "    </tr>\n",
       "    <tr>\n",
       "      <th>7</th>\n",
       "      <td>Client_8</td>\n",
       "      <td>36.366176</td>\n",
       "      <td>-6.237622</td>\n",
       "      <td>2</td>\n",
       "      <td>64.650817</td>\n",
       "    </tr>\n",
       "    <tr>\n",
       "      <th>8</th>\n",
       "      <td>Client_9</td>\n",
       "      <td>36.101115</td>\n",
       "      <td>-6.284027</td>\n",
       "      <td>2</td>\n",
       "      <td>152.634954</td>\n",
       "    </tr>\n",
       "    <tr>\n",
       "      <th>9</th>\n",
       "      <td>Client_10</td>\n",
       "      <td>36.208073</td>\n",
       "      <td>-6.354385</td>\n",
       "      <td>1</td>\n",
       "      <td>116.022874</td>\n",
       "    </tr>\n",
       "  </tbody>\n",
       "</table>\n",
       "</div>"
      ],
      "text/plain": [
       "    ClientID   Latitude  Longitude  Priorité  Coût Estimé\n",
       "0   Client_1  35.874540  -6.489708         2   141.131728\n",
       "1   Client_2  36.450714  -6.015045         1    75.578619\n",
       "2   Client_3  36.231994  -6.083779         1    59.757739\n",
       "3   Client_4  36.098658  -6.393830         2   192.332831\n",
       "4   Client_5  35.656018  -6.409088         2   194.844805\n",
       "5   Client_6  35.655995  -6.408298         3   171.259602\n",
       "6   Client_7  35.558084  -6.347879         1    95.692065\n",
       "7   Client_8  36.366176  -6.237622         2    64.650817\n",
       "8   Client_9  36.101115  -6.284027         2   152.634954\n",
       "9  Client_10  36.208073  -6.354385         1   116.022874"
      ]
     },
     "execution_count": 561,
     "metadata": {},
     "output_type": "execute_result"
    }
   ],
   "source": [
    "# Afficher les 10 premières lignes du DataFrame pour un aperçu rapide des données\n",
    "data.head(10)"
   ]
  },
  {
   "cell_type": "code",
   "execution_count": 525,
   "id": "bfbccaf5-d948-4b7e-bca5-5e4ec0d53ec1",
   "metadata": {},
   "outputs": [
    {
     "data": {
      "text/html": [
       "<div>\n",
       "<style scoped>\n",
       "    .dataframe tbody tr th:only-of-type {\n",
       "        vertical-align: middle;\n",
       "    }\n",
       "\n",
       "    .dataframe tbody tr th {\n",
       "        vertical-align: top;\n",
       "    }\n",
       "\n",
       "    .dataframe thead th {\n",
       "        text-align: right;\n",
       "    }\n",
       "</style>\n",
       "<table border=\"1\" class=\"dataframe\">\n",
       "  <thead>\n",
       "    <tr style=\"text-align: right;\">\n",
       "      <th></th>\n",
       "      <th>Latitude</th>\n",
       "      <th>Longitude</th>\n",
       "      <th>Priorité</th>\n",
       "      <th>Coût Estimé</th>\n",
       "    </tr>\n",
       "  </thead>\n",
       "  <tbody>\n",
       "    <tr>\n",
       "      <th>count</th>\n",
       "      <td>10.000000</td>\n",
       "      <td>10.000000</td>\n",
       "      <td>10.000000</td>\n",
       "      <td>10.000000</td>\n",
       "    </tr>\n",
       "    <tr>\n",
       "      <th>mean</th>\n",
       "      <td>36.020137</td>\n",
       "      <td>-6.302366</td>\n",
       "      <td>1.700000</td>\n",
       "      <td>126.390603</td>\n",
       "    </tr>\n",
       "    <tr>\n",
       "      <th>std</th>\n",
       "      <td>0.315866</td>\n",
       "      <td>0.151185</td>\n",
       "      <td>0.674949</td>\n",
       "      <td>51.464266</td>\n",
       "    </tr>\n",
       "    <tr>\n",
       "      <th>min</th>\n",
       "      <td>35.558084</td>\n",
       "      <td>-6.489708</td>\n",
       "      <td>1.000000</td>\n",
       "      <td>59.757739</td>\n",
       "    </tr>\n",
       "    <tr>\n",
       "      <th>25%</th>\n",
       "      <td>35.710649</td>\n",
       "      <td>-6.404681</td>\n",
       "      <td>1.000000</td>\n",
       "      <td>80.606981</td>\n",
       "    </tr>\n",
       "    <tr>\n",
       "      <th>50%</th>\n",
       "      <td>36.099886</td>\n",
       "      <td>-6.351132</td>\n",
       "      <td>2.000000</td>\n",
       "      <td>128.577301</td>\n",
       "    </tr>\n",
       "    <tr>\n",
       "      <th>75%</th>\n",
       "      <td>36.226014</td>\n",
       "      <td>-6.249223</td>\n",
       "      <td>2.000000</td>\n",
       "      <td>166.603440</td>\n",
       "    </tr>\n",
       "    <tr>\n",
       "      <th>max</th>\n",
       "      <td>36.450714</td>\n",
       "      <td>-6.015045</td>\n",
       "      <td>3.000000</td>\n",
       "      <td>194.844805</td>\n",
       "    </tr>\n",
       "  </tbody>\n",
       "</table>\n",
       "</div>"
      ],
      "text/plain": [
       "        Latitude  Longitude   Priorité  Coût Estimé\n",
       "count  10.000000  10.000000  10.000000    10.000000\n",
       "mean   36.020137  -6.302366   1.700000   126.390603\n",
       "std     0.315866   0.151185   0.674949    51.464266\n",
       "min    35.558084  -6.489708   1.000000    59.757739\n",
       "25%    35.710649  -6.404681   1.000000    80.606981\n",
       "50%    36.099886  -6.351132   2.000000   128.577301\n",
       "75%    36.226014  -6.249223   2.000000   166.603440\n",
       "max    36.450714  -6.015045   3.000000   194.844805"
      ]
     },
     "execution_count": 525,
     "metadata": {},
     "output_type": "execute_result"
    }
   ],
   "source": [
    "# Obtenir un résumé statistique des colonnes numériques du DataFrame\n",
    "data.describe()"
   ]
  },
  {
   "cell_type": "code",
   "execution_count": 527,
   "id": "24fb9c09-fa71-4901-a33b-d64fe32c0f0d",
   "metadata": {},
   "outputs": [
    {
     "name": "stdout",
     "output_type": "stream",
     "text": [
      "<class 'pandas.core.frame.DataFrame'>\n",
      "RangeIndex: 10 entries, 0 to 9\n",
      "Data columns (total 5 columns):\n",
      " #   Column       Non-Null Count  Dtype  \n",
      "---  ------       --------------  -----  \n",
      " 0   ClientID     10 non-null     object \n",
      " 1   Latitude     10 non-null     float64\n",
      " 2   Longitude    10 non-null     float64\n",
      " 3   Priorité     10 non-null     int64  \n",
      " 4   Coût Estimé  10 non-null     float64\n",
      "dtypes: float64(3), int64(1), object(1)\n",
      "memory usage: 532.0+ bytes\n"
     ]
    }
   ],
   "source": [
    "data.info() # Afficher un résumé des informations du DataFrame"
   ]
  },
  {
   "cell_type": "markdown",
   "id": "2d877acc-c66f-4fb7-aef8-7070d659725e",
   "metadata": {},
   "source": [
    "#### Pré-Traitement des données "
   ]
  },
  {
   "cell_type": "markdown",
   "id": "970d0e68-4552-47d8-951a-51a639821d7b",
   "metadata": {},
   "source": [
    "#### Gestion des valeurs manquantes "
   ]
  },
  {
   "cell_type": "code",
   "execution_count": 531,
   "id": "e1d32533-92a5-4324-be6a-9be2f9e9f0be",
   "metadata": {},
   "outputs": [
    {
     "name": "stdout",
     "output_type": "stream",
     "text": [
      "\n",
      "Valeurs manquantes :\n",
      " ClientID       0\n",
      "Latitude       0\n",
      "Longitude      0\n",
      "Priorité       0\n",
      "Coût Estimé    0\n",
      "dtype: int64\n"
     ]
    }
   ],
   "source": [
    "#Vérification des valeurs manquantes\n",
    "# La méthode isnull() détecte les valeurs nulles (NaN)\n",
    "# La méthode sum() calcule le nombre total de valeurs nulles pour chaque colonne\n",
    "print(\"\\nValeurs manquantes :\\n\", data.isnull().sum())"
   ]
  },
  {
   "cell_type": "markdown",
   "id": "9518ea0a-a765-445e-93bb-f8132ae1a950",
   "metadata": {},
   "source": [
    "#### Gestion des doublons "
   ]
  },
  {
   "cell_type": "code",
   "execution_count": 534,
   "id": "72b1695d-78de-4884-8cf6-43cf3fbb01b8",
   "metadata": {},
   "outputs": [
    {
     "name": "stdout",
     "output_type": "stream",
     "text": [
      "Nombre de doublons : 0\n"
     ]
    }
   ],
   "source": [
    "# Vérifier les doublons\n",
    "duplicates = data.duplicated()\n",
    "print(\"Nombre de doublons :\", duplicates.sum())"
   ]
  },
  {
   "cell_type": "markdown",
   "id": "fff041e6-b86b-4a01-b6bd-da36e041df2e",
   "metadata": {},
   "source": [
    "#### Visualisation "
   ]
  },
  {
   "cell_type": "code",
   "execution_count": 537,
   "id": "b1209dde-c083-471d-b26d-6657afa07c93",
   "metadata": {},
   "outputs": [
    {
     "data": {
      "image/png": "[encoded data removed]",
      "text/plain": [
       "<Figure size 1000x600 with 2 Axes>"
      ]
     },
     "metadata": {},
     "output_type": "display_data"
    }
   ],
   "source": [
    "# Visualiser les points de livraison\n",
    "# Définir la taille de la figure pour la visualisation\n",
    "plt.figure(figsize=(10, 6))\n",
    "# Créer un nuage de points (scatter plot)\n",
    "# Utilisation des coordonnées Longitude et Latitude pour les axes X et Y\n",
    "# Les points sont colorés en fonction de la priorité des livraisons, en utilisant la palette de couleurs 'viridis'\n",
    "# La taille des points est définie par s=100 et la transparence par alpha=0.7\n",
    "plt.scatter(df['Longitude'], df['Latitude'], c=df['Priorité'], cmap='viridis', s=100, alpha=0.7)\n",
    "plt.colorbar(label='Priorité')\n",
    "plt.title('Points de livraison')\n",
    "plt.xlabel('Longitude')\n",
    "plt.ylabel('Latitude')\n",
    "plt.grid(True)\n",
    "# Afficher le graphique\n",
    "plt.show()"
   ]
  },
  {
   "cell_type": "markdown",
   "id": "0e915b09-f460-46ff-84e1-22d04abf1a4a",
   "metadata": {},
   "source": [
    "#### Encodage de la colonne catégorielle ClientID en une colonne numérique "
   ]
  },
  {
   "cell_type": "code",
   "execution_count": 540,
   "id": "07fb90c7-b26e-4b1f-8f6c-1faa482aa524",
   "metadata": {},
   "outputs": [],
   "source": [
    "# Encodage de la colonne ClientID (extraction du numéro du client)\n",
    "data['ClientID'] = data['ClientID'].apply(lambda x: int(x.split('_')[1]))"
   ]
  },
  {
   "cell_type": "code",
   "execution_count": 542,
   "id": "c9ae7f63-0527-4847-a5e2-5af6c677992d",
   "metadata": {},
   "outputs": [
    {
     "data": {
      "text/html": [
       "<div>\n",
       "<style scoped>\n",
       "    .dataframe tbody tr th:only-of-type {\n",
       "        vertical-align: middle;\n",
       "    }\n",
       "\n",
       "    .dataframe tbody tr th {\n",
       "        vertical-align: top;\n",
       "    }\n",
       "\n",
       "    .dataframe thead th {\n",
       "        text-align: right;\n",
       "    }\n",
       "</style>\n",
       "<table border=\"1\" class=\"dataframe\">\n",
       "  <thead>\n",
       "    <tr style=\"text-align: right;\">\n",
       "      <th></th>\n",
       "      <th>ClientID</th>\n",
       "      <th>Latitude</th>\n",
       "      <th>Longitude</th>\n",
       "      <th>Priorité</th>\n",
       "      <th>Coût Estimé</th>\n",
       "    </tr>\n",
       "  </thead>\n",
       "  <tbody>\n",
       "    <tr>\n",
       "      <th>0</th>\n",
       "      <td>1</td>\n",
       "      <td>35.874540</td>\n",
       "      <td>-6.489708</td>\n",
       "      <td>2</td>\n",
       "      <td>141.131728</td>\n",
       "    </tr>\n",
       "    <tr>\n",
       "      <th>1</th>\n",
       "      <td>2</td>\n",
       "      <td>36.450714</td>\n",
       "      <td>-6.015045</td>\n",
       "      <td>1</td>\n",
       "      <td>75.578619</td>\n",
       "    </tr>\n",
       "    <tr>\n",
       "      <th>2</th>\n",
       "      <td>3</td>\n",
       "      <td>36.231994</td>\n",
       "      <td>-6.083779</td>\n",
       "      <td>1</td>\n",
       "      <td>59.757739</td>\n",
       "    </tr>\n",
       "    <tr>\n",
       "      <th>3</th>\n",
       "      <td>4</td>\n",
       "      <td>36.098658</td>\n",
       "      <td>-6.393830</td>\n",
       "      <td>2</td>\n",
       "      <td>192.332831</td>\n",
       "    </tr>\n",
       "    <tr>\n",
       "      <th>4</th>\n",
       "      <td>5</td>\n",
       "      <td>35.656018</td>\n",
       "      <td>-6.409088</td>\n",
       "      <td>2</td>\n",
       "      <td>194.844805</td>\n",
       "    </tr>\n",
       "  </tbody>\n",
       "</table>\n",
       "</div>"
      ],
      "text/plain": [
       "   ClientID   Latitude  Longitude  Priorité  Coût Estimé\n",
       "0         1  35.874540  -6.489708         2   141.131728\n",
       "1         2  36.450714  -6.015045         1    75.578619\n",
       "2         3  36.231994  -6.083779         1    59.757739\n",
       "3         4  36.098658  -6.393830         2   192.332831\n",
       "4         5  35.656018  -6.409088         2   194.844805"
      ]
     },
     "execution_count": 542,
     "metadata": {},
     "output_type": "execute_result"
    }
   ],
   "source": [
    "data.head() #Vérifier si la colonne a été bien convertie "
   ]
  },
  {
   "cell_type": "markdown",
   "id": "b8332d56-5852-44ee-902c-df1ed231f237",
   "metadata": {},
   "source": [
    "#### Normalisation des variables numériques "
   ]
  },
  {
   "cell_type": "code",
   "execution_count": 545,
   "id": "6a674646-dbf3-458d-8477-13e5703f04e3",
   "metadata": {},
   "outputs": [
    {
     "name": "stdout",
     "output_type": "stream",
     "text": [
      "   Latitude  Longitude  Coût Estimé\n",
      "0 -0.485879  -1.306183     0.301928\n",
      "1  1.436904   2.003257    -1.040732\n",
      "2  0.707001   1.524030    -1.364776\n",
      "3  0.262038  -0.637704     1.350631\n",
      "4 -1.215121  -0.744085     1.402081\n"
     ]
    }
   ],
   "source": [
    "#Pour une amelioration des algorithmes \n",
    "# Normalisation des variables numériques \n",
    "scaler = StandardScaler()\n",
    "# La méthode fit_transform() ajuste le scaler sur les données et les transforme\n",
    "# fit() calcule la moyenne et l'écart type des colonnes sélectionnées,\n",
    "# Ici, les colonnes 'Latitude', 'Longitude' et 'Coût Estimé' sont normalisées.\n",
    "data[['Latitude', 'Longitude', 'Coût Estimé']] = scaler.fit_transform(data[['Latitude', 'Longitude', 'Coût Estimé']])\n",
    "\n",
    "# Vérification après normalisation\n",
    "print(data[['Latitude', 'Longitude', 'Coût Estimé']].head())"
   ]
  },
  {
   "cell_type": "markdown",
   "id": "7c59dbb7-2c50-4ad7-a253-999526577642",
   "metadata": {},
   "source": [
    "#### la division des données d'entraînement et de test "
   ]
  },
  {
   "cell_type": "code",
   "execution_count": 453,
   "id": "6f243396-2705-4fc0-87d8-da86e7b99f6e",
   "metadata": {},
   "outputs": [],
   "source": [
    "# Séparer les features (X) et la cible (y)\n",
    "# X contient les colonnes utilisées pour prédire (les caractéristiques)\n",
    "X = data[['ClientID', 'Latitude', 'Longitude', 'Priorité']]  \n",
    "# y contient la colonne cible à prédire\n",
    "y = data['Coût Estimé']  # La cible"
   ]
  },
  {
   "cell_type": "code",
   "execution_count": 455,
   "id": "fa5e180a-cef2-49a4-983a-634bc6d47528",
   "metadata": {},
   "outputs": [],
   "source": [
    "# Séparer le dataset en train et test\n",
    "X_train, X_test, y_train, y_test = train_test_split(X, y, test_size=0.2, random_state=42)"
   ]
  },
  {
   "cell_type": "markdown",
   "id": "fd981a31-df4c-426a-9874-fac49a3c8637",
   "metadata": {},
   "source": [
    "#### L'entraînement du modèle "
   ]
  },
  {
   "cell_type": "code",
   "execution_count": 458,
   "id": "3a91372d-a172-44a3-93e6-2fe70a08f5ba",
   "metadata": {},
   "outputs": [
    {
     "data": {
      "text/html": [
       "<style>#sk-container-id-6 {\n",
       "  /* Definition of color scheme common for light and dark mode */\n",
       "  --sklearn-color-text: black;\n",
       "  --sklearn-color-line: gray;\n",
       "  /* Definition of color scheme for unfitted estimators */\n",
       "  --sklearn-color-unfitted-level-0: #fff5e6;\n",
       "  --sklearn-color-unfitted-level-1: #f6e4d2;\n",
       "  --sklearn-color-unfitted-level-2: #ffe0b3;\n",
       "  --sklearn-color-unfitted-level-3: chocolate;\n",
       "  /* Definition of color scheme for fitted estimators */\n",
       "  --sklearn-color-fitted-level-0: #f0f8ff;\n",
       "  --sklearn-color-fitted-level-1: #d4ebff;\n",
       "  --sklearn-color-fitted-level-2: #b3dbfd;\n",
       "  --sklearn-color-fitted-level-3: cornflowerblue;\n",
       "\n",
       "  /* Specific color for light theme */\n",
       "  --sklearn-color-text-on-default-background: var(--sg-text-color, var(--theme-code-foreground, var(--jp-content-font-color1, black)));\n",
       "  --sklearn-color-background: var(--sg-background-color, var(--theme-background, var(--jp-layout-color0, white)));\n",
       "  --sklearn-color-border-box: var(--sg-text-color, var(--theme-code-foreground, var(--jp-content-font-color1, black)));\n",
       "  --sklearn-color-icon: #696969;\n",
       "\n",
       "  @media (prefers-color-scheme: dark) {\n",
       "    /* Redefinition of color scheme for dark theme */\n",
       "    --sklearn-color-text-on-default-background: var(--sg-text-color, var(--theme-code-foreground, var(--jp-content-font-color1, white)));\n",
       "    --sklearn-color-background: var(--sg-background-color, var(--theme-background, var(--jp-layout-color0, #111)));\n",
       "    --sklearn-color-border-box: var(--sg-text-color, var(--theme-code-foreground, var(--jp-content-font-color1, white)));\n",
       "    --sklearn-color-icon: #878787;\n",
       "  }\n",
       "}\n",
       "\n",
       "#sk-container-id-6 {\n",
       "  color: var(--sklearn-color-text);\n",
       "}\n",
       "\n",
       "#sk-container-id-6 pre {\n",
       "  padding: 0;\n",
       "}\n",
       "\n",
       "#sk-container-id-6 input.sk-hidden--visually {\n",
       "  border: 0;\n",
       "  clip: rect(1px 1px 1px 1px);\n",
       "  clip: rect(1px, 1px, 1px, 1px);\n",
       "  height: 1px;\n",
       "  margin: -1px;\n",
       "  overflow: hidden;\n",
       "  padding: 0;\n",
       "  position: absolute;\n",
       "  width: 1px;\n",
       "}\n",
       "\n",
       "#sk-container-id-6 div.sk-dashed-wrapped {\n",
       "  border: 1px dashed var(--sklearn-color-line);\n",
       "  margin: 0 0.4em 0.5em 0.4em;\n",
       "  box-sizing: border-box;\n",
       "  padding-bottom: 0.4em;\n",
       "  background-color: var(--sklearn-color-background);\n",
       "}\n",
       "\n",
       "#sk-container-id-6 div.sk-container {\n",
       "  /* jupyter's `normalize.less` sets `[hidden] { display: none; }`\n",
       "     but bootstrap.min.css set `[hidden] { display: none !important; }`\n",
       "     so we also need the `!important` here to be able to override the\n",
       "     default hidden behavior on the sphinx rendered scikit-learn.org.\n",
       "     See: https://github.com/scikit-learn/scikit-learn/issues/21755 */\n",
       "  display: inline-block !important;\n",
       "  position: relative;\n",
       "}\n",
       "\n",
       "#sk-container-id-6 div.sk-text-repr-fallback {\n",
       "  display: none;\n",
       "}\n",
       "\n",
       "div.sk-parallel-item,\n",
       "div.sk-serial,\n",
       "div.sk-item {\n",
       "  /* draw centered vertical line to link estimators */\n",
       "  background-image: linear-gradient(var(--sklearn-color-text-on-default-background), var(--sklearn-color-text-on-default-background));\n",
       "  background-size: 2px 100%;\n",
       "  background-repeat: no-repeat;\n",
       "  background-position: center center;\n",
       "}\n",
       "\n",
       "/* Parallel-specific style estimator block */\n",
       "\n",
       "#sk-container-id-6 div.sk-parallel-item::after {\n",
       "  content: \"\";\n",
       "  width: 100%;\n",
       "  border-bottom: 2px solid var(--sklearn-color-text-on-default-background);\n",
       "  flex-grow: 1;\n",
       "}\n",
       "\n",
       "#sk-container-id-6 div.sk-parallel {\n",
       "  display: flex;\n",
       "  align-items: stretch;\n",
       "  justify-content: center;\n",
       "  background-color: var(--sklearn-color-background);\n",
       "  position: relative;\n",
       "}\n",
       "\n",
       "#sk-container-id-6 div.sk-parallel-item {\n",
       "  display: flex;\n",
       "  flex-direction: column;\n",
       "}\n",
       "\n",
       "#sk-container-id-6 div.sk-parallel-item:first-child::after {\n",
       "  align-self: flex-end;\n",
       "  width: 50%;\n",
       "}\n",
       "\n",
       "#sk-container-id-6 div.sk-parallel-item:last-child::after {\n",
       "  align-self: flex-start;\n",
       "  width: 50%;\n",
       "}\n",
       "\n",
       "#sk-container-id-6 div.sk-parallel-item:only-child::after {\n",
       "  width: 0;\n",
       "}\n",
       "\n",
       "/* Serial-specific style estimator block */\n",
       "\n",
       "#sk-container-id-6 div.sk-serial {\n",
       "  display: flex;\n",
       "  flex-direction: column;\n",
       "  align-items: center;\n",
       "  background-color: var(--sklearn-color-background);\n",
       "  padding-right: 1em;\n",
       "  padding-left: 1em;\n",
       "}\n",
       "\n",
       "\n",
       "/* Toggleable style: style used for estimator/Pipeline/ColumnTransformer box that is\n",
       "clickable and can be expanded/collapsed.\n",
       "- Pipeline and ColumnTransformer use this feature and define the default style\n",
       "- Estimators will overwrite some part of the style using the `sk-estimator` class\n",
       "*/\n",
       "\n",
       "/* Pipeline and ColumnTransformer style (default) */\n",
       "\n",
       "#sk-container-id-6 div.sk-toggleable {\n",
       "  /* Default theme specific background. It is overwritten whether we have a\n",
       "  specific estimator or a Pipeline/ColumnTransformer */\n",
       "  background-color: var(--sklearn-color-background);\n",
       "}\n",
       "\n",
       "/* Toggleable label */\n",
       "#sk-container-id-6 label.sk-toggleable__label {\n",
       "  cursor: pointer;\n",
       "  display: block;\n",
       "  width: 100%;\n",
       "  margin-bottom: 0;\n",
       "  padding: 0.5em;\n",
       "  box-sizing: border-box;\n",
       "  text-align: center;\n",
       "}\n",
       "\n",
       "#sk-container-id-6 label.sk-toggleable__label-arrow:before {\n",
       "  /* Arrow on the left of the label */\n",
       "  content: \"▸\";\n",
       "  float: left;\n",
       "  margin-right: 0.25em;\n",
       "  color: var(--sklearn-color-icon);\n",
       "}\n",
       "\n",
       "#sk-container-id-6 label.sk-toggleable__label-arrow:hover:before {\n",
       "  color: var(--sklearn-color-text);\n",
       "}\n",
       "\n",
       "/* Toggleable content - dropdown */\n",
       "\n",
       "#sk-container-id-6 div.sk-toggleable__content {\n",
       "  max-height: 0;\n",
       "  max-width: 0;\n",
       "  overflow: hidden;\n",
       "  text-align: left;\n",
       "  /* unfitted */\n",
       "  background-color: var(--sklearn-color-unfitted-level-0);\n",
       "}\n",
       "\n",
       "#sk-container-id-6 div.sk-toggleable__content.fitted {\n",
       "  /* fitted */\n",
       "  background-color: var(--sklearn-color-fitted-level-0);\n",
       "}\n",
       "\n",
       "#sk-container-id-6 div.sk-toggleable__content pre {\n",
       "  margin: 0.2em;\n",
       "  border-radius: 0.25em;\n",
       "  color: var(--sklearn-color-text);\n",
       "  /* unfitted */\n",
       "  background-color: var(--sklearn-color-unfitted-level-0);\n",
       "}\n",
       "\n",
       "#sk-container-id-6 div.sk-toggleable__content.fitted pre {\n",
       "  /* unfitted */\n",
       "  background-color: var(--sklearn-color-fitted-level-0);\n",
       "}\n",
       "\n",
       "#sk-container-id-6 input.sk-toggleable__control:checked~div.sk-toggleable__content {\n",
       "  /* Expand drop-down */\n",
       "  max-height: 200px;\n",
       "  max-width: 100%;\n",
       "  overflow: auto;\n",
       "}\n",
       "\n",
       "#sk-container-id-6 input.sk-toggleable__control:checked~label.sk-toggleable__label-arrow:before {\n",
       "  content: \"▾\";\n",
       "}\n",
       "\n",
       "/* Pipeline/ColumnTransformer-specific style */\n",
       "\n",
       "#sk-container-id-6 div.sk-label input.sk-toggleable__control:checked~label.sk-toggleable__label {\n",
       "  color: var(--sklearn-color-text);\n",
       "  background-color: var(--sklearn-color-unfitted-level-2);\n",
       "}\n",
       "\n",
       "#sk-container-id-6 div.sk-label.fitted input.sk-toggleable__control:checked~label.sk-toggleable__label {\n",
       "  background-color: var(--sklearn-color-fitted-level-2);\n",
       "}\n",
       "\n",
       "/* Estimator-specific style */\n",
       "\n",
       "/* Colorize estimator box */\n",
       "#sk-container-id-6 div.sk-estimator input.sk-toggleable__control:checked~label.sk-toggleable__label {\n",
       "  /* unfitted */\n",
       "  background-color: var(--sklearn-color-unfitted-level-2);\n",
       "}\n",
       "\n",
       "#sk-container-id-6 div.sk-estimator.fitted input.sk-toggleable__control:checked~label.sk-toggleable__label {\n",
       "  /* fitted */\n",
       "  background-color: var(--sklearn-color-fitted-level-2);\n",
       "}\n",
       "\n",
       "#sk-container-id-6 div.sk-label label.sk-toggleable__label,\n",
       "#sk-container-id-6 div.sk-label label {\n",
       "  /* The background is the default theme color */\n",
       "  color: var(--sklearn-color-text-on-default-background);\n",
       "}\n",
       "\n",
       "/* On hover, darken the color of the background */\n",
       "#sk-container-id-6 div.sk-label:hover label.sk-toggleable__label {\n",
       "  color: var(--sklearn-color-text);\n",
       "  background-color: var(--sklearn-color-unfitted-level-2);\n",
       "}\n",
       "\n",
       "/* Label box, darken color on hover, fitted */\n",
       "#sk-container-id-6 div.sk-label.fitted:hover label.sk-toggleable__label.fitted {\n",
       "  color: var(--sklearn-color-text);\n",
       "  background-color: var(--sklearn-color-fitted-level-2);\n",
       "}\n",
       "\n",
       "/* Estimator label */\n",
       "\n",
       "#sk-container-id-6 div.sk-label label {\n",
       "  font-family: monospace;\n",
       "  font-weight: bold;\n",
       "  display: inline-block;\n",
       "  line-height: 1.2em;\n",
       "}\n",
       "\n",
       "#sk-container-id-6 div.sk-label-container {\n",
       "  text-align: center;\n",
       "}\n",
       "\n",
       "/* Estimator-specific */\n",
       "#sk-container-id-6 div.sk-estimator {\n",
       "  font-family: monospace;\n",
       "  border: 1px dotted var(--sklearn-color-border-box);\n",
       "  border-radius: 0.25em;\n",
       "  box-sizing: border-box;\n",
       "  margin-bottom: 0.5em;\n",
       "  /* unfitted */\n",
       "  background-color: var(--sklearn-color-unfitted-level-0);\n",
       "}\n",
       "\n",
       "#sk-container-id-6 div.sk-estimator.fitted {\n",
       "  /* fitted */\n",
       "  background-color: var(--sklearn-color-fitted-level-0);\n",
       "}\n",
       "\n",
       "/* on hover */\n",
       "#sk-container-id-6 div.sk-estimator:hover {\n",
       "  /* unfitted */\n",
       "  background-color: var(--sklearn-color-unfitted-level-2);\n",
       "}\n",
       "\n",
       "#sk-container-id-6 div.sk-estimator.fitted:hover {\n",
       "  /* fitted */\n",
       "  background-color: var(--sklearn-color-fitted-level-2);\n",
       "}\n",
       "\n",
       "/* Specification for estimator info (e.g. \"i\" and \"?\") */\n",
       "\n",
       "/* Common style for \"i\" and \"?\" */\n",
       "\n",
       ".sk-estimator-doc-link,\n",
       "a:link.sk-estimator-doc-link,\n",
       "a:visited.sk-estimator-doc-link {\n",
       "  float: right;\n",
       "  font-size: smaller;\n",
       "  line-height: 1em;\n",
       "  font-family: monospace;\n",
       "  background-color: var(--sklearn-color-background);\n",
       "  border-radius: 1em;\n",
       "  height: 1em;\n",
       "  width: 1em;\n",
       "  text-decoration: none !important;\n",
       "  margin-left: 1ex;\n",
       "  /* unfitted */\n",
       "  border: var(--sklearn-color-unfitted-level-1) 1pt solid;\n",
       "  color: var(--sklearn-color-unfitted-level-1);\n",
       "}\n",
       "\n",
       ".sk-estimator-doc-link.fitted,\n",
       "a:link.sk-estimator-doc-link.fitted,\n",
       "a:visited.sk-estimator-doc-link.fitted {\n",
       "  /* fitted */\n",
       "  border: var(--sklearn-color-fitted-level-1) 1pt solid;\n",
       "  color: var(--sklearn-color-fitted-level-1);\n",
       "}\n",
       "\n",
       "/* On hover */\n",
       "div.sk-estimator:hover .sk-estimator-doc-link:hover,\n",
       ".sk-estimator-doc-link:hover,\n",
       "div.sk-label-container:hover .sk-estimator-doc-link:hover,\n",
       ".sk-estimator-doc-link:hover {\n",
       "  /* unfitted */\n",
       "  background-color: var(--sklearn-color-unfitted-level-3);\n",
       "  color: var(--sklearn-color-background);\n",
       "  text-decoration: none;\n",
       "}\n",
       "\n",
       "div.sk-estimator.fitted:hover .sk-estimator-doc-link.fitted:hover,\n",
       ".sk-estimator-doc-link.fitted:hover,\n",
       "div.sk-label-container:hover .sk-estimator-doc-link.fitted:hover,\n",
       ".sk-estimator-doc-link.fitted:hover {\n",
       "  /* fitted */\n",
       "  background-color: var(--sklearn-color-fitted-level-3);\n",
       "  color: var(--sklearn-color-background);\n",
       "  text-decoration: none;\n",
       "}\n",
       "\n",
       "/* Span, style for the box shown on hovering the info icon */\n",
       ".sk-estimator-doc-link span {\n",
       "  display: none;\n",
       "  z-index: 9999;\n",
       "  position: relative;\n",
       "  font-weight: normal;\n",
       "  right: .2ex;\n",
       "  padding: .5ex;\n",
       "  margin: .5ex;\n",
       "  width: min-content;\n",
       "  min-width: 20ex;\n",
       "  max-width: 50ex;\n",
       "  color: var(--sklearn-color-text);\n",
       "  box-shadow: 2pt 2pt 4pt #999;\n",
       "  /* unfitted */\n",
       "  background: var(--sklearn-color-unfitted-level-0);\n",
       "  border: .5pt solid var(--sklearn-color-unfitted-level-3);\n",
       "}\n",
       "\n",
       ".sk-estimator-doc-link.fitted span {\n",
       "  /* fitted */\n",
       "  background: var(--sklearn-color-fitted-level-0);\n",
       "  border: var(--sklearn-color-fitted-level-3);\n",
       "}\n",
       "\n",
       ".sk-estimator-doc-link:hover span {\n",
       "  display: block;\n",
       "}\n",
       "\n",
       "/* \"?\"-specific style due to the `<a>` HTML tag */\n",
       "\n",
       "#sk-container-id-6 a.estimator_doc_link {\n",
       "  float: right;\n",
       "  font-size: 1rem;\n",
       "  line-height: 1em;\n",
       "  font-family: monospace;\n",
       "  background-color: var(--sklearn-color-background);\n",
       "  border-radius: 1rem;\n",
       "  height: 1rem;\n",
       "  width: 1rem;\n",
       "  text-decoration: none;\n",
       "  /* unfitted */\n",
       "  color: var(--sklearn-color-unfitted-level-1);\n",
       "  border: var(--sklearn-color-unfitted-level-1) 1pt solid;\n",
       "}\n",
       "\n",
       "#sk-container-id-6 a.estimator_doc_link.fitted {\n",
       "  /* fitted */\n",
       "  border: var(--sklearn-color-fitted-level-1) 1pt solid;\n",
       "  color: var(--sklearn-color-fitted-level-1);\n",
       "}\n",
       "\n",
       "/* On hover */\n",
       "#sk-container-id-6 a.estimator_doc_link:hover {\n",
       "  /* unfitted */\n",
       "  background-color: var(--sklearn-color-unfitted-level-3);\n",
       "  color: var(--sklearn-color-background);\n",
       "  text-decoration: none;\n",
       "}\n",
       "\n",
       "#sk-container-id-6 a.estimator_doc_link.fitted:hover {\n",
       "  /* fitted */\n",
       "  background-color: var(--sklearn-color-fitted-level-3);\n",
       "}\n",
       "</style><div id=\"sk-container-id-6\" class=\"sk-top-container\"><div class=\"sk-text-repr-fallback\"><pre>RandomForestRegressor(random_state=42)</pre><b>In a Jupyter environment, please rerun this cell to show the HTML representation or trust the notebook. <br />On GitHub, the HTML representation is unable to render, please try loading this page with nbviewer.org.</b></div><div class=\"sk-container\" hidden><div class=\"sk-item\"><div class=\"sk-estimator fitted sk-toggleable\"><input class=\"sk-toggleable__control sk-hidden--visually\" id=\"sk-estimator-id-6\" type=\"checkbox\" checked><label for=\"sk-estimator-id-6\" class=\"sk-toggleable__label fitted sk-toggleable__label-arrow fitted\">&nbsp;&nbsp;RandomForestRegressor<a class=\"sk-estimator-doc-link fitted\" rel=\"noreferrer\" target=\"_blank\" href=\"https://scikit-learn.org/1.5/modules/generated/sklearn.ensemble.RandomForestRegressor.html\">?<span>Documentation for RandomForestRegressor</span></a><span class=\"sk-estimator-doc-link fitted\">i<span>Fitted</span></span></label><div class=\"sk-toggleable__content fitted\"><pre>RandomForestRegressor(random_state=42)</pre></div> </div></div></div></div>"
      ],
      "text/plain": [
       "RandomForestRegressor(random_state=42)"
      ]
     },
     "execution_count": 458,
     "metadata": {},
     "output_type": "execute_result"
    }
   ],
   "source": [
    "# Créer et entraîner le modèle RandomForestRegressor\n",
    "model = RandomForestRegressor(n_estimators=100, random_state=42)\n",
    "model.fit(X_train, y_train)"
   ]
  },
  {
   "cell_type": "code",
   "execution_count": 460,
   "id": "ae5e715a-56b9-4c15-b701-e36fb7708edd",
   "metadata": {},
   "outputs": [
    {
     "name": "stdout",
     "output_type": "stream",
     "text": [
      "\n",
      "Prédictions sur les données de test:\n",
      "[-0.39527285 -0.88364396]\n"
     ]
    }
   ],
   "source": [
    "# Faire des prédictions sur les données de test\n",
    "y_pred = model.predict(X_test)\n",
    "\n",
    "# Afficher les premières prédictions\n",
    "print(\"\\nPrédictions sur les données de test:\")\n",
    "print(y_pred[:5])"
   ]
  },
  {
   "cell_type": "code",
   "execution_count": 464,
   "id": "00ae840b-235b-40fe-8f89-ee38a035d165",
   "metadata": {},
   "outputs": [
    {
     "name": "stdout",
     "output_type": "stream",
     "text": [
      "Erreur quadratique moyenne (MSE) : 0.45\n"
     ]
    }
   ],
   "source": [
    "# Évaluation des performances\n",
    "mse = mean_squared_error(y_test, y_pred)  # Calcule l'erreur quadratique moyenne (MSE) entre les valeurs réelles et les prédictions\n",
    "print(f\"Erreur quadratique moyenne (MSE) : {mse:.2f}\")  # Affiche la MSE sous forme d'un nombre à deux décimales"
   ]
  },
  {
   "cell_type": "markdown",
   "id": "0134d51b-c01b-4f11-90ba-7bed35e5c549",
   "metadata": {},
   "source": [
    "#### La fonction coût "
   ]
  },
  {
   "cell_type": "code",
   "execution_count": 467,
   "id": "0b3e9c05-d20a-457c-8e78-cd71c6940de5",
   "metadata": {},
   "outputs": [],
   "source": [
    "# Fonction de coût : distance totale d'un itinéraire\n",
    "def total_distance(route, distance_matrix):\n",
    "    # Calcule la somme des distances entre chaque paire de clients successifs dans le chemin\n",
    "    distance = sum(distance_matrix[route[i]][route[i+1]] for i in range(len(route) - 1))\n",
    "    \n",
    "    # Ajoute la distance du dernier client au premier client (pour fermer le circuit)\n",
    "    return distance + distance_matrix[route[-1]][route[0]]  # Retour au point de départ"
   ]
  },
  {
   "cell_type": "markdown",
   "id": "b291d4ce-d6b7-4583-a229-88d2a9628a31",
   "metadata": {},
   "source": [
    "#### Algorithme de recuit simulé"
   ]
  },
  {
   "cell_type": "code",
   "execution_count": 470,
   "id": "e72af45d-ee1c-48c0-a81f-ee22eb80f968",
   "metadata": {},
   "outputs": [],
   "source": [
    "# Algorithme de recuit simulé\n",
    "def simulated_annealing(distance_matrix, initial_temp, cooling_rate, max_iterations):\n",
    "    n = len(distance_matrix)  # Nombre de points de livraison\n",
    "    current_solution = list(range(n))  # Solution initiale (ordre des points)\n",
    "    random.shuffle(current_solution)  # Mélange aléatoire des points\n",
    "    current_cost = total_distance(current_solution, distance_matrix)  # Coût initial (distance totale)\n",
    "    \n",
    "    best_solution = current_solution[:]  # Meilleure solution trouvée\n",
    "    best_cost = current_cost  # Meilleur coût trouvé\n",
    "    \n",
    "    temp = initial_temp  # Température initiale\n",
    "    \n",
    "    for iteration in range(max_iterations):  # Boucle principale\n",
    "        # Génération d'une nouvelle solution voisine (échange de deux points)\n",
    "        new_solution = current_solution[:]\n",
    "        i, j = random.sample(range(n), 2)  # Choix aléatoire de deux indices\n",
    "        new_solution[i], new_solution[j] = new_solution[j], new_solution[i]  # Échange des positions\n",
    "        \n",
    "        new_cost = total_distance(new_solution, distance_matrix)  # Coût de la nouvelle solution\n",
    "        \n",
    "        # Décision d'accepter la nouvelle solution :\n",
    "        # 1. Si la nouvelle solution est meilleure (coût inférieur), on l'accepte.\n",
    "        # 2. Sinon, on l'accepte avec une probabilité dépendant de la température.\n",
    "        if new_cost < current_cost or random.random() < math.exp((current_cost - new_cost) / temp):\n",
    "            current_solution = new_solution  # Mettre à jour la solution actuelle\n",
    "            current_cost = new_cost  # Mettre à jour le coût actuel\n",
    "        \n",
    "        # Mise à jour du meilleur résultat trouvé\n",
    "        if current_cost < best_cost:\n",
    "            best_solution = current_solution  # Nouvelle meilleure solution\n",
    "            best_cost = current_cost  # Nouveau meilleur coût\n",
    "        \n",
    "        # Refroidissement : on diminue progressivement la température\n",
    "        temp *= cooling_rate\n",
    "    \n",
    "    return best_solution, best_cost  # Retourner la meilleure solution et son coût"
   ]
  },
  {
   "cell_type": "markdown",
   "id": "0754ce73-3189-4fac-82b7-1f79f81a70a0",
   "metadata": {},
   "source": [
    "#### Matrice de corrélation"
   ]
  },
  {
   "cell_type": "code",
   "execution_count": 481,
   "id": "cecf000c-8b38-4376-bf0d-b23fb79efa9a",
   "metadata": {},
   "outputs": [],
   "source": [
    "# Calcul du MSE(Erreur quadratique moyenne), RMSE(Écart quadratique moyen) et R²(Coefficient de détermination)\n",
    "mse = mean_squared_error(y_test, y_pred)\n",
    "rmse = np.sqrt(mse)\n",
    "r2 = r2_score(y_test, y_pred)"
   ]
  },
  {
   "cell_type": "code",
   "execution_count": 483,
   "id": "f6de91d6-3cb1-4b87-8b6f-975279728823",
   "metadata": {},
   "outputs": [
    {
     "name": "stdout",
     "output_type": "stream",
     "text": [
      "Erreur quadratique moyenne (MSE): 0.44740600386258483\n",
      "Écart quadratique moyen (RMSE): 0.6688841483116377\n",
      "Coefficient de détermination : 0.28154564033503193\n"
     ]
    },
    {
     "data": {
      "image/png": "[encoded data removed]",
      "text/plain": [
       "<Figure size 1000x600 with 2 Axes>"
      ]
     },
     "metadata": {},
     "output_type": "display_data"
    }
   ],
   "source": [
    "# Affichage des résultats\n",
    "print(f\"Erreur quadratique moyenne (MSE): {mse}\")\n",
    "print(f\"Écart quadratique moyen (RMSE): {rmse}\")\n",
    "print(f\"Coefficient de détermination : {r2}\")\n",
    "\n",
    "# Matrice de corrélation\n",
    "corr_matrix = data.corr()\n",
    "\n",
    "# Affichage de la matrice de corrélation sous forme de heatmap\n",
    "plt.figure(figsize=(10, 6))\n",
    "sns.heatmap(corr_matrix, annot=True, cmap='coolwarm', fmt='.2f')\n",
    "plt.title(\"Matrice de Corrélation\")\n",
    "plt.show()"
   ]
  },
  {
   "cell_type": "markdown",
   "id": "e8ece27d-7821-4402-9068-1ddc4da39c5f",
   "metadata": {},
   "source": [
    "#### Matrice de distances "
   ]
  },
  {
   "cell_type": "code",
   "execution_count": 311,
   "id": "478fa49d-8527-4304-88ca-e1d8587dbcd4",
   "metadata": {},
   "outputs": [
    {
     "name": "stdout",
     "output_type": "stream",
     "text": [
      "Itinéraire optimal : [4, 2, 8, 3, 1, 7, 0, 9, 6, 5]\n",
      "Coût total : 283\n"
     ]
    }
   ],
   "source": [
    "# Matrice de distances \n",
    "distance_matrix = np.random.randint(10, 100, size=(10, 10))\n",
    "np.fill_diagonal(distance_matrix, 0)\n",
    "\n",
    "# Paramètres du recuit simulé\n",
    "initial_temp = 1000\n",
    "cooling_rate = 0.995\n",
    "max_iterations = 1000\n",
    "\n",
    "# Exécution de l'algorithme\n",
    "optimal_route, optimal_cost = simulated_annealing(distance_matrix, initial_temp, cooling_rate, max_iterations)\n",
    "\n",
    "print(\"Itinéraire optimal :\", optimal_route)\n",
    "print(\"Coût total :\", optimal_cost)"
   ]
  },
  {
   "cell_type": "code",
   "execution_count": 485,
   "id": "901903b0-fd15-4faa-a91f-3ab2872e216b",
   "metadata": {},
   "outputs": [
    {
     "name": "stdout",
     "output_type": "stream",
     "text": [
      "Matrice de Distance :\n",
      " [[0.00000000e+00 7.46512854e-01 5.40880500e-01 2.43765192e-01\n",
      "  2.32919404e-01 2.33215577e-01 3.46785042e-01 5.52497337e-01\n",
      "  3.06008014e-01 3.59939684e-01]\n",
      " [7.46512854e-01 0.00000000e+00 2.29265787e-01 5.17128131e-01\n",
      "  8.87024023e-01 8.86693978e-01 9.52662998e-01 2.38090727e-01\n",
      "  4.41101776e-01 4.17164584e-01]\n",
      " [5.40880500e-01 2.29265787e-01 0.00000000e+00 3.37505721e-01\n",
      "  6.61493989e-01 6.61125880e-01 7.23811784e-01 2.04138379e-01\n",
      "  2.39224945e-01 2.71661226e-01]\n",
      " [2.43765192e-01 5.17128131e-01 3.37505721e-01 0.00000000e+00\n",
      "  4.42902897e-01 4.42899373e-01 5.42523496e-01 3.09785118e-01\n",
      "  1.09830486e-01 1.16307997e-01]\n",
      " [2.32919404e-01 8.87024023e-01 6.61493989e-01 4.42902897e-01\n",
      "  0.00000000e+00 7.90334739e-04 1.15488571e-01 7.30564832e-01\n",
      "  4.62332773e-01 5.54758633e-01]\n",
      " [2.33215577e-01 8.86693978e-01 6.61125880e-01 4.42899373e-01\n",
      "  7.90334739e-04 0.00000000e+00 1.15052247e-01 7.30402184e-01\n",
      "  4.62141857e-01 5.54704182e-01]\n",
      " [3.46785042e-01 9.52662998e-01 7.23811784e-01 5.42523496e-01\n",
      "  1.15488571e-01 1.15052247e-01 0.00000000e+00 8.15579111e-01\n",
      "  5.46772114e-01 6.50021560e-01]\n",
      " [5.52497337e-01 2.38090727e-01 2.04138379e-01 3.09785118e-01\n",
      "  7.30564832e-01 7.30402184e-01 8.15579111e-01 0.00000000e+00\n",
      "  2.69092471e-01 1.96545559e-01]\n",
      " [3.06008014e-01 4.41101776e-01 2.39224945e-01 1.09830486e-01\n",
      "  4.62332773e-01 4.62141857e-01 5.46772114e-01 2.69092471e-01\n",
      "  0.00000000e+00 1.28024458e-01]\n",
      " [3.59939684e-01 4.17164584e-01 2.71661226e-01 1.16307997e-01\n",
      "  5.54758633e-01 5.54704182e-01 6.50021560e-01 1.96545559e-01\n",
      "  1.28024458e-01 0.00000000e+00]]\n"
     ]
    }
   ],
   "source": [
    "# Matrice de distance (calcul de la distance euclidienne entre les clients)\n",
    "from scipy.spatial.distance import cdist\n",
    "\n",
    "# Extraire les coordonnées des clients (longitude, latitude)\n",
    "coordinates = df[['Longitude', 'Latitude']]\n",
    "\n",
    "# Calculer la matrice de distance (distance euclidienne)\n",
    "distance_matrix = cdist(coordinates, coordinates, metric='euclidean')\n",
    "\n",
    "# Afficher la matrice de distance\n",
    "print(\"Matrice de Distance :\\n\", distance_matrix)"
   ]
  },
  {
   "cell_type": "code",
   "execution_count": 487,
   "id": "27dcf680-7a92-4794-b1a7-04a737c8185b",
   "metadata": {},
   "outputs": [
    {
     "data": {
      "image/png": "[encoded data removed]",
      "text/plain": [
       "<Figure size 640x480 with 2 Axes>"
      ]
     },
     "metadata": {},
     "output_type": "display_data"
    }
   ],
   "source": [
    "# Visualisation de la matrice de distance sous forme de heatmap\n",
    "sns.heatmap(distance_matrix, annot=True, cmap='Blues')\n",
    "plt.title(\"Matrice de Distance Euclidienne\")\n",
    "plt.show()"
   ]
  },
  {
   "cell_type": "code",
   "execution_count": 512,
   "id": "496a2e34-debc-4bd3-a253-27d21f630149",
   "metadata": {},
   "outputs": [
    {
     "name": "stdout",
     "output_type": "stream",
     "text": [
      "Performance du Random Forest :\n",
      "Erreur Quadratique Moyen : 0.44740600386258483\n",
      "\n",
      "Performance du Recuit simulé :\n",
      "Coût total de l'itinéraire : 283\n"
     ]
    }
   ],
   "source": [
    "# Comparaison des résultats\n",
    "print(\"Performance du Random Forest :\")\n",
    "print(\"Erreur Quadratique Moyen :\", mse)\n",
    "\n",
    "print(\"\\nPerformance du Recuit simulé :\")\n",
    "print(\"Coût total de l'itinéraire :\", optimal_cost)"
   ]
  }
 ],
 "metadata": {
  "kernelspec": {
   "display_name": "Python 3 (ipykernel)",
   "language": "python",
   "name": "python3"
  },
  "language_info": {
   "codemirror_mode": {
    "name": "ipython",
    "version": 3
   },
   "file_extension": ".py",
   "mimetype": "text/x-python",
   "name": "python",
   "nbconvert_exporter": "python",
   "pygments_lexer": "ipython3",
   "version": "3.12.7"
  }
 },
 "nbformat": 4,
 "nbformat_minor": 5
}
